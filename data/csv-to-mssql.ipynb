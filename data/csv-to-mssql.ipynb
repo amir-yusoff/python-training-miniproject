{
 "cells": [
  {
   "cell_type": "code",
   "execution_count": 3,
   "metadata": {},
   "outputs": [],
   "source": [
    "import pandas as pd\n",
    "import pyodbc\n"
   ]
  },
  {
   "cell_type": "code",
   "execution_count": 41,
   "metadata": {},
   "outputs": [
    {
     "data": {
      "text/html": [
       "<div>\n",
       "<style scoped>\n",
       "    .dataframe tbody tr th:only-of-type {\n",
       "        vertical-align: middle;\n",
       "    }\n",
       "\n",
       "    .dataframe tbody tr th {\n",
       "        vertical-align: top;\n",
       "    }\n",
       "\n",
       "    .dataframe thead th {\n",
       "        text-align: right;\n",
       "    }\n",
       "</style>\n",
       "<table border=\"1\" class=\"dataframe\">\n",
       "  <thead>\n",
       "    <tr style=\"text-align: right;\">\n",
       "      <th></th>\n",
       "      <th>Std_ID</th>\n",
       "      <th>Std_Name</th>\n",
       "      <th>Std_DOB</th>\n",
       "      <th>Std_Age</th>\n",
       "      <th>Std_Street</th>\n",
       "      <th>Std_State</th>\n",
       "      <th>Std_Country</th>\n",
       "      <th>Std_Postcode</th>\n",
       "      <th>Std_Phone</th>\n",
       "      <th>Std_Email</th>\n",
       "    </tr>\n",
       "  </thead>\n",
       "  <tbody>\n",
       "    <tr>\n",
       "      <th>0</th>\n",
       "      <td>101</td>\n",
       "      <td>Preeta a/l Merican</td>\n",
       "      <td>1979-03-31</td>\n",
       "      <td>43</td>\n",
       "      <td>No. 36 Jln Yong Shook Lin Seksyen 52</td>\n",
       "      <td>Selangor</td>\n",
       "      <td>Malaysia</td>\n",
       "      <td>46200</td>\n",
       "      <td>125551111</td>\n",
       "      <td>preeta@gmail.com</td>\n",
       "    </tr>\n",
       "    <tr>\n",
       "      <th>1</th>\n",
       "      <td>102</td>\n",
       "      <td>Siauw Koong Cheng</td>\n",
       "      <td>1980-06-01</td>\n",
       "      <td>42</td>\n",
       "      <td>13A Jln Pudu Ulu</td>\n",
       "      <td>Kuala Lumpur</td>\n",
       "      <td>Malaysia</td>\n",
       "      <td>56100</td>\n",
       "      <td>125551112</td>\n",
       "      <td>siauw@gmail.com</td>\n",
       "    </tr>\n",
       "    <tr>\n",
       "      <th>2</th>\n",
       "      <td>103</td>\n",
       "      <td>Muhammad Haji Syed Aidi</td>\n",
       "      <td>1980-10-19</td>\n",
       "      <td>41</td>\n",
       "      <td>1 6 Jln Pjs 11/8 Taman Bandar Sunway</td>\n",
       "      <td>Selangor</td>\n",
       "      <td>Malaysia</td>\n",
       "      <td>46150</td>\n",
       "      <td>125551113</td>\n",
       "      <td>muhammad@gmail.com</td>\n",
       "    </tr>\n",
       "    <tr>\n",
       "      <th>3</th>\n",
       "      <td>104</td>\n",
       "      <td>Veloo Munusamy</td>\n",
       "      <td>1980-11-23</td>\n",
       "      <td>41</td>\n",
       "      <td>32B Jalan Pekaka 8/3 Kota Damansara</td>\n",
       "      <td>Selangor</td>\n",
       "      <td>Malaysia</td>\n",
       "      <td>47810</td>\n",
       "      <td>125551114</td>\n",
       "      <td>veloo@gmail.com</td>\n",
       "    </tr>\n",
       "    <tr>\n",
       "      <th>4</th>\n",
       "      <td>105</td>\n",
       "      <td>Philip Nguei Ong Khoi</td>\n",
       "      <td>1981-06-10</td>\n",
       "      <td>41</td>\n",
       "      <td>No. 8 Jalan 4/91A Taman Shamelin Perkasa Batu</td>\n",
       "      <td>Kuala Lumpur</td>\n",
       "      <td>Malaysia</td>\n",
       "      <td>56100</td>\n",
       "      <td>125551115</td>\n",
       "      <td>philip@gmail.com</td>\n",
       "    </tr>\n",
       "  </tbody>\n",
       "</table>\n",
       "</div>"
      ],
      "text/plain": [
       "   Std_ID                 Std_Name     Std_DOB  Std_Age  \\\n",
       "0     101       Preeta a/l Merican  1979-03-31       43   \n",
       "1     102        Siauw Koong Cheng  1980-06-01       42   \n",
       "2     103  Muhammad Haji Syed Aidi  1980-10-19       41   \n",
       "3     104           Veloo Munusamy  1980-11-23       41   \n",
       "4     105    Philip Nguei Ong Khoi  1981-06-10       41   \n",
       "\n",
       "                                       Std_Street     Std_State Std_Country  \\\n",
       "0            No. 36 Jln Yong Shook Lin Seksyen 52      Selangor    Malaysia   \n",
       "1                                13A Jln Pudu Ulu  Kuala Lumpur    Malaysia   \n",
       "2            1 6 Jln Pjs 11/8 Taman Bandar Sunway      Selangor    Malaysia   \n",
       "3             32B Jalan Pekaka 8/3 Kota Damansara      Selangor    Malaysia   \n",
       "4  No. 8 Jalan 4/91A Taman Shamelin Perkasa Batu   Kuala Lumpur    Malaysia   \n",
       "\n",
       "   Std_Postcode  Std_Phone           Std_Email  \n",
       "0         46200  125551111    preeta@gmail.com  \n",
       "1         56100  125551112     siauw@gmail.com  \n",
       "2         46150  125551113  muhammad@gmail.com  \n",
       "3         47810  125551114     veloo@gmail.com  \n",
       "4         56100  125551115    philip@gmail.com  "
      ]
     },
     "execution_count": 41,
     "metadata": {},
     "output_type": "execute_result"
    }
   ],
   "source": [
    "# Import CSV\n",
    "data = pd.read_csv ('./data/name-list.csv')   \n",
    "df = pd.DataFrame(data)\n",
    "\n",
    "df.head()"
   ]
  },
  {
   "cell_type": "code",
   "execution_count": 38,
   "metadata": {},
   "outputs": [
    {
     "name": "stdout",
     "output_type": "stream",
     "text": [
      "Index(['Std_ID', 'Std_Name', 'Std_DOB', 'Std_Age', 'Std_Street', 'Std_State',\n",
      "       'Std_Country', 'Std_Postcode', 'Std_Phone', 'Std_Email'],\n",
      "      dtype='object')\n"
     ]
    }
   ],
   "source": [
    "print(df.columns)"
   ]
  },
  {
   "cell_type": "code",
   "execution_count": 39,
   "metadata": {},
   "outputs": [
    {
     "name": "stdout",
     "output_type": "stream",
     "text": [
      "Connected to SQL Server\n"
     ]
    }
   ],
   "source": [
    "conn = pyodbc.connect('Driver={SQL Server};'\n",
    "                      'Server=AMIR-PC\\SQLEXPRESS;'\n",
    "                      'Database=training_project;'\n",
    "                      'Trusted_Connection=yes;')\n",
    "cursor = conn.cursor()\n",
    "\n",
    "print('Connected to SQL Server')"
   ]
  },
  {
   "cell_type": "code",
   "execution_count": 43,
   "metadata": {},
   "outputs": [
    {
     "ename": "IntegrityError",
     "evalue": "('23000', \"[23000] [Microsoft][ODBC SQL Server Driver][SQL Server]Violation of PRIMARY KEY constraint 'PK__Student___FE2B44AE6E330832'. Cannot insert duplicate key in object 'dbo.Student_Personal'. The duplicate key value is (101). (2627) (SQLExecDirectW); [23000] [Microsoft][ODBC SQL Server Driver][SQL Server]The statement has been terminated. (3621)\")",
     "output_type": "error",
     "traceback": [
      "\u001b[1;31m---------------------------------------------------------------------------\u001b[0m",
      "\u001b[1;31mIntegrityError\u001b[0m                            Traceback (most recent call last)",
      "\u001b[1;32mC:\\Users\\AMIRYU~1\\AppData\\Local\\Temp/ipykernel_8276/30238583.py\u001b[0m in \u001b[0;36m<module>\u001b[1;34m\u001b[0m\n\u001b[0;32m      1\u001b[0m \u001b[1;31m# Insert DataFrame to Table\u001b[0m\u001b[1;33m\u001b[0m\u001b[1;33m\u001b[0m\u001b[1;33m\u001b[0m\u001b[0m\n\u001b[0;32m      2\u001b[0m \u001b[1;32mfor\u001b[0m \u001b[0mrow\u001b[0m \u001b[1;32min\u001b[0m \u001b[0mdf\u001b[0m\u001b[1;33m.\u001b[0m\u001b[0mitertuples\u001b[0m\u001b[1;33m(\u001b[0m\u001b[1;33m)\u001b[0m\u001b[1;33m:\u001b[0m\u001b[1;33m\u001b[0m\u001b[1;33m\u001b[0m\u001b[0m\n\u001b[1;32m----> 3\u001b[1;33m     cursor.execute('''\n\u001b[0m\u001b[0;32m      4\u001b[0m                 \u001b[0mINSERT\u001b[0m \u001b[0mINTO\u001b[0m \u001b[0mdbo\u001b[0m\u001b[1;33m.\u001b[0m\u001b[0mStudent_Personal\u001b[0m\u001b[1;33m(\u001b[0m\u001b[0mStd_ID\u001b[0m\u001b[1;33m,\u001b[0m \u001b[0mStd_Name\u001b[0m\u001b[1;33m,\u001b[0m \u001b[0mStd_DOB\u001b[0m\u001b[1;33m,\u001b[0m \u001b[0mStd_Age\u001b[0m\u001b[1;33m,\u001b[0m \u001b[0mStd_Street\u001b[0m\u001b[1;33m,\u001b[0m \u001b[0mStd_State\u001b[0m\u001b[1;33m,\u001b[0m \u001b[0mStd_Country\u001b[0m\u001b[1;33m,\u001b[0m \u001b[0mStd_Postcode\u001b[0m\u001b[1;33m,\u001b[0m \u001b[0mStd_Phone\u001b[0m\u001b[1;33m,\u001b[0m \u001b[0mStd_Email\u001b[0m\u001b[1;33m)\u001b[0m\u001b[1;33m\u001b[0m\u001b[1;33m\u001b[0m\u001b[0m\n\u001b[0;32m      5\u001b[0m                 \u001b[0mVALUES\u001b[0m \u001b[1;33m(\u001b[0m\u001b[0;31m?\u001b[0m\u001b[1;33m,\u001b[0m\u001b[0;31m?\u001b[0m\u001b[1;33m,\u001b[0m\u001b[0;31m?\u001b[0m\u001b[1;33m,\u001b[0m\u001b[0;31m?\u001b[0m\u001b[1;33m,\u001b[0m\u001b[0;31m?\u001b[0m\u001b[1;33m,\u001b[0m\u001b[0;31m?\u001b[0m\u001b[1;33m,\u001b[0m\u001b[0;31m?\u001b[0m\u001b[1;33m,\u001b[0m\u001b[0;31m?\u001b[0m\u001b[1;33m,\u001b[0m\u001b[0;31m?\u001b[0m\u001b[1;33m,\u001b[0m\u001b[0;31m?\u001b[0m\u001b[1;33m)\u001b[0m\u001b[1;33m\u001b[0m\u001b[1;33m\u001b[0m\u001b[0m\n",
      "\u001b[1;31mIntegrityError\u001b[0m: ('23000', \"[23000] [Microsoft][ODBC SQL Server Driver][SQL Server]Violation of PRIMARY KEY constraint 'PK__Student___FE2B44AE6E330832'. Cannot insert duplicate key in object 'dbo.Student_Personal'. The duplicate key value is (101). (2627) (SQLExecDirectW); [23000] [Microsoft][ODBC SQL Server Driver][SQL Server]The statement has been terminated. (3621)\")"
     ]
    }
   ],
   "source": [
    "# Insert DataFrame to Table\n",
    "for row in df.itertuples():\n",
    "    cursor.execute('''\n",
    "                INSERT INTO dbo.Student_Personal(Std_ID, Std_Name, Std_DOB, Std_Age, Std_Street, Std_State, Std_Country, Std_Postcode, Std_Phone, Std_Email)\n",
    "                VALUES (?,?,?,?,?,?,?,?,?,?)\n",
    "                ''',\n",
    "                row.Std_ID, \n",
    "                row.Std_Name, \n",
    "                row.Std_DOB, \n",
    "                row.Std_Age, \n",
    "                row.Std_Street, \n",
    "                row.Std_State, \n",
    "                row.Std_Country, \n",
    "                row.Std_Postcode, \n",
    "                row.Std_Phone,\n",
    "                row.Std_Email\n",
    "                )\n",
    "conn.commit()"
   ]
  }
 ],
 "metadata": {
  "interpreter": {
   "hash": "b3ba2566441a7c06988d0923437866b63cedc61552a5af99d1f4fb67d367b25f"
  },
  "kernelspec": {
   "display_name": "Python 3.8.12 ('base')",
   "language": "python",
   "name": "python3"
  },
  "language_info": {
   "codemirror_mode": {
    "name": "ipython",
    "version": 3
   },
   "file_extension": ".py",
   "mimetype": "text/x-python",
   "name": "python",
   "nbconvert_exporter": "python",
   "pygments_lexer": "ipython3",
   "version": "3.8.12"
  },
  "orig_nbformat": 4
 },
 "nbformat": 4,
 "nbformat_minor": 2
}
